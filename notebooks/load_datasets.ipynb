{
 "cells": [
  {
   "cell_type": "code",
   "execution_count": 1,
   "id": "8b1a7175-4a89-4176-a5f6-27a1d4883171",
   "metadata": {},
   "outputs": [
    {
     "name": "stderr",
     "output_type": "stream",
     "text": [
      "Setting default log level to \"WARN\".\n",
      "To adjust logging level use sc.setLogLevel(newLevel). For SparkR, use setLogLevel(newLevel).\n",
      "25/05/05 02:41:14 WARN NativeCodeLoader: Unable to load native-hadoop library for your platform... using builtin-java classes where applicable\n"
     ]
    },
    {
     "name": "stdout",
     "output_type": "stream",
     "text": [
      "=== Analyse de movies.csv ===\n"
     ]
    },
    {
     "name": "stderr",
     "output_type": "stream",
     "text": [
      "                                                                                "
     ]
    },
    {
     "name": "stdout",
     "output_type": "stream",
     "text": [
      "Nombre total de lignes dans movies.csv: 27278\n",
      "\n",
      "Valeurs manquantes dans movies.csv:\n",
      "movieId: 0 valeurs manquantes\n",
      "title: 0 valeurs manquantes\n",
      "genres: 0 valeurs manquantes\n",
      "\n",
      "Aperçu de movies.csv:\n",
      "+-------+--------------------+--------------------+\n",
      "|movieId|               title|              genres|\n",
      "+-------+--------------------+--------------------+\n",
      "|      1|    Toy Story (1995)|Adventure|Animati...|\n",
      "|      2|      Jumanji (1995)|Adventure|Childre...|\n",
      "|      3|Grumpier Old Men ...|      Comedy|Romance|\n",
      "|      4|Waiting to Exhale...|Comedy|Drama|Romance|\n",
      "|      5|Father of the Bri...|              Comedy|\n",
      "+-------+--------------------+--------------------+\n",
      "only showing top 5 rows\n",
      "\n",
      "\n",
      "=== Analyse de ratings.csv ===\n"
     ]
    },
    {
     "name": "stderr",
     "output_type": "stream",
     "text": [
      "                                                                                "
     ]
    },
    {
     "name": "stdout",
     "output_type": "stream",
     "text": [
      "Nombre total de lignes dans ratings.csv: 20000263\n",
      "\n",
      "Valeurs manquantes dans ratings.csv:\n",
      "userId: 0 valeurs manquantes\n",
      "movieId: 0 valeurs manquantes\n",
      "rating: 0 valeurs manquantes\n",
      "timestamp: 0 valeurs manquantes\n",
      "\n",
      "Aperçu de ratings.csv:\n",
      "+------+-------+------+-------------------+\n",
      "|userId|movieId|rating|          timestamp|\n",
      "+------+-------+------+-------------------+\n",
      "|     1|      2|   3.5|2005-04-02 23:53:47|\n",
      "|     1|     29|   3.5|2005-04-02 23:31:16|\n",
      "|     1|     32|   3.5|2005-04-02 23:33:39|\n",
      "|     1|     47|   3.5|2005-04-02 23:32:07|\n",
      "|     1|     50|   3.5|2005-04-02 23:29:40|\n",
      "+------+-------+------+-------------------+\n",
      "only showing top 5 rows\n",
      "\n"
     ]
    }
   ],
   "source": [
    "# Imports nécessaires\n",
    "from pyspark.sql import SparkSession\n",
    "from pyspark.sql.types import *\n",
    "from pyspark.sql.functions import col, count, when\n",
    "\n",
    "# Configuration Spark\n",
    "spark = SparkSession.builder \\\n",
    "    .appName(\"MovieLensAnalysis\") \\\n",
    "    .config(\"spark.hadoop.fs.defaultFS\", \"hdfs://namenode:9000\") \\\n",
    "    .config(\"spark.driver.memory\", \"4g\") \\\n",
    "    .config(\"spark.executor.memory\", \"4g\") \\\n",
    "    .config(\"spark.memory.offHeap.enabled\", \"true\") \\\n",
    "    .config(\"spark.memory.offHeap.size\", \"2g\") \\\n",
    "    .config(\"spark.sql.shuffle.partitions\", \"20\") \\\n",
    "    .config(\"spark.memory.fraction\", \"0.8\") \\\n",
    "    .config(\"spark.memory.storageFraction\", \"0.3\") \\\n",
    "    .getOrCreate()\n",
    "\n",
    "# Définition des schémas\n",
    "movies_schema = StructType([\n",
    "    StructField(\"movieId\", IntegerType(), True),\n",
    "    StructField(\"title\", StringType(), True),\n",
    "    StructField(\"genres\", StringType(), True)\n",
    "])\n",
    "\n",
    "ratings_schema = StructType([\n",
    "    StructField(\"userId\", IntegerType(), True),\n",
    "    StructField(\"movieId\", IntegerType(), True),\n",
    "    StructField(\"rating\", FloatType(), True),\n",
    "    StructField(\"timestamp\", TimestampType(), True)\n",
    "])\n",
    "\n",
    "try:\n",
    "    # 1. Chargement et analyse de movies.csv\n",
    "    print(\"=== Analyse de movies.csv ===\")\n",
    "    movies_df = spark.read.csv(\n",
    "        \"hdfs://namenode:9000/datasets/movie.csv\",\n",
    "        header=True,\n",
    "        schema=movies_schema\n",
    "    ).persist()\n",
    "\n",
    "    print(f\"Nombre total de lignes dans movies.csv: {movies_df.count()}\")\n",
    "    print(\"\\nValeurs manquantes dans movies.csv:\")\n",
    "    for column in movies_df.columns:\n",
    "        missing = movies_df.filter(col(column).isNull()).count()\n",
    "        print(f\"{column}: {missing} valeurs manquantes\")\n",
    "\n",
    "    print(\"\\nAperçu de movies.csv:\")\n",
    "    movies_df.show(5)\n",
    "\n",
    "    # 2. Chargement et analyse de ratings.csv\n",
    "    print(\"\\n=== Analyse de ratings.csv ===\")\n",
    "    ratings_df = spark.read.csv(\n",
    "        \"hdfs://namenode:9000/datasets/rating.csv\",\n",
    "        header=True,\n",
    "        schema=ratings_schema\n",
    "    ).persist()\n",
    "\n",
    "    print(f\"Nombre total de lignes dans ratings.csv: {ratings_df.count()}\")\n",
    "    print(\"\\nValeurs manquantes dans ratings.csv:\")\n",
    "    for column in ratings_df.columns:\n",
    "        missing = ratings_df.filter(col(column).isNull()).count()\n",
    "        print(f\"{column}: {missing} valeurs manquantes\")\n",
    "\n",
    "    print(\"\\nAperçu de ratings.csv:\")\n",
    "    ratings_df.show(5)\n",
    "\n",
    "except Exception as e:\n",
    "    print(\"Erreur:\", str(e))\n",
    "    print(\"\\nVérifications à faire:\")\n",
    "    print(\"1. HDFS est-il en cours d'exécution? → jps\")\n",
    "    print(\"2. Les fichiers sont-ils présents? → hdfs dfs -ls /datasets\")\n",
    "    print(\"3. Le hostname est-il correct dans core-site.xml?\")\n"
   ]
  },
  {
   "cell_type": "code",
   "execution_count": 2,
   "id": "91534148-7bc4-4141-9a79-e31ee53fac42",
   "metadata": {},
   "outputs": [
    {
     "name": "stdout",
     "output_type": "stream",
     "text": [
      "\n",
      "=== Analyse des doublons dans movies.csv ===\n",
      "Nombre total de lignes: 27278\n",
      "Nombre de lignes uniques: 27278\n",
      "Nombre de doublons: 0\n",
      "\n",
      "=== Analyse des doublons dans ratings.csv ===\n"
     ]
    },
    {
     "name": "stderr",
     "output_type": "stream",
     "text": [
      "[Stage 45:====================================>                   (13 + 7) / 20]"
     ]
    },
    {
     "name": "stdout",
     "output_type": "stream",
     "text": [
      "Nombre total de lignes: 20000263\n",
      "Nombre de lignes uniques: 20000263\n",
      "Nombre de doublons: 0\n"
     ]
    },
    {
     "name": "stderr",
     "output_type": "stream",
     "text": [
      "                                                                                "
     ]
    }
   ],
   "source": [
    "# Imports nécessaires\n",
    "from pyspark.sql.functions import col, count\n",
    "\n",
    "# Analyse des doublons dans movies.csv\n",
    "print(\"\\n=== Analyse des doublons dans movies.csv ===\")\n",
    "total_movies = movies_df.count()\n",
    "unique_movies = movies_df.distinct().count()\n",
    "duplicates_movies = total_movies - unique_movies\n",
    "\n",
    "print(f\"Nombre total de lignes: {total_movies}\")\n",
    "print(f\"Nombre de lignes uniques: {unique_movies}\")\n",
    "print(f\"Nombre de doublons: {duplicates_movies}\")\n",
    "\n",
    "if duplicates_movies > 0:\n",
    "    print(\"\\nExemples de doublons dans movies.csv:\")\n",
    "    movies_df.groupBy(movies_df.columns) \\\n",
    "        .count() \\\n",
    "        .filter(col(\"count\") > 1) \\\n",
    "        .show(5)\n",
    "\n",
    "# Analyse des doublons dans ratings.csv\n",
    "print(\"\\n=== Analyse des doublons dans ratings.csv ===\")\n",
    "total_ratings = ratings_df.count()\n",
    "unique_ratings = ratings_df.distinct().count()\n",
    "duplicates_ratings = total_ratings - unique_ratings\n",
    "\n",
    "print(f\"Nombre total de lignes: {total_ratings}\")\n",
    "print(f\"Nombre de lignes uniques: {unique_ratings}\")\n",
    "print(f\"Nombre de doublons: {duplicates_ratings}\")\n",
    "\n",
    "if duplicates_ratings > 0:\n",
    "    print(\"\\nExemples de doublons dans ratings.csv:\")\n",
    "    ratings_df.groupBy(ratings_df.columns) \\\n",
    "        .count() \\\n",
    "        .filter(col(\"count\") > 1) \\\n",
    "        .show(5)"
   ]
  },
  {
   "cell_type": "code",
   "execution_count": 3,
   "id": "19e5b56d-84a0-4710-9842-19bfb47a259b",
   "metadata": {},
   "outputs": [
    {
     "name": "stderr",
     "output_type": "stream",
     "text": [
      "                                                                                "
     ]
    },
    {
     "name": "stdout",
     "output_type": "stream",
     "text": [
      "Nombre total de lignes après fusion: 20000263\n"
     ]
    },
    {
     "name": "stderr",
     "output_type": "stream",
     "text": [
      "[Stage 54:===================>                                     (4 + 8) / 12]"
     ]
    },
    {
     "name": "stdout",
     "output_type": "stream",
     "text": [
      "Nombre de films uniques: 26744\n"
     ]
    },
    {
     "name": "stderr",
     "output_type": "stream",
     "text": [
      "                                                                                "
     ]
    }
   ],
   "source": [
    "# Fusion des dataframes\n",
    "merged_df = movies_df.join(ratings_df, \"movieId\")\n",
    "\n",
    "# Vérification après fusion\n",
    "print(f\"Nombre total de lignes après fusion: {merged_df.count()}\")\n",
    "print(f\"Nombre de films uniques: {merged_df.select('movieId').distinct().count()}\")"
   ]
  },
  {
   "cell_type": "code",
   "execution_count": 4,
   "id": "5dc4fca3-66e4-4673-801b-8cede7caf10f",
   "metadata": {},
   "outputs": [
    {
     "name": "stdout",
     "output_type": "stream",
     "text": [
      "\n",
      "Aperçu des dataframe apres fusion\n",
      "+-------+--------------------+--------------------+------+------+-------------------+\n",
      "|movieId|               title|              genres|userId|rating|          timestamp|\n",
      "+-------+--------------------+--------------------+------+------+-------------------+\n",
      "|      2|      Jumanji (1995)|Adventure|Childre...|     1|   3.5|2005-04-02 23:53:47|\n",
      "|     29|City of Lost Chil...|Adventure|Drama|F...|     1|   3.5|2005-04-02 23:31:16|\n",
      "|     32|Twelve Monkeys (a...|Mystery|Sci-Fi|Th...|     1|   3.5|2005-04-02 23:33:39|\n",
      "|     47|Seven (a.k.a. Se7...|    Mystery|Thriller|     1|   3.5|2005-04-02 23:32:07|\n",
      "|     50|Usual Suspects, T...|Crime|Mystery|Thr...|     1|   3.5|2005-04-02 23:29:40|\n",
      "+-------+--------------------+--------------------+------+------+-------------------+\n",
      "only showing top 5 rows\n",
      "\n"
     ]
    }
   ],
   "source": [
    "print(\"\\nAperçu des dataframe apres fusion\")\n",
    "merged_df .show(5)"
   ]
  },
  {
   "cell_type": "code",
   "execution_count": 5,
   "id": "bd124a72-1f71-4eb8-94b6-aa1aeb445492",
   "metadata": {
    "scrolled": true
   },
   "outputs": [],
   "source": [
    "from pyspark.sql.functions import split, col, to_timestamp, year, count, avg\n",
    "\n",
    "# Amélioration du dataset\n",
    "enriched_df = merged_df \\\n",
    "    .withColumn(\"genres_array\", split(col(\"genres\"), \"\\\\|\")) \\\n",
    "    .withColumn(\"rating_date\", to_timestamp(col(\"timestamp\"))) \\\n",
    "    .withColumn(\"rating_year\", year(to_timestamp(col(\"timestamp\"))))\n",
    "\n",
    "# Calcul des statistiques par film\n",
    "movie_stats = enriched_df.groupBy(\"movieId\", \"title\") \\\n",
    "    .agg(\n",
    "        count(\"rating\").alias(\"num_ratings\"),\n",
    "        avg(\"rating\").alias(\"avg_rating\")\n",
    "    )\n"
   ]
  },
  {
   "cell_type": "code",
   "execution_count": 6,
   "id": "e12b0453-9995-469b-bcf1-90844309529f",
   "metadata": {},
   "outputs": [
    {
     "name": "stdout",
     "output_type": "stream",
     "text": [
      "=== Aperçu des données enrichies ===\n",
      "+-------+---------------------------------------------------------------+--------------------------------------------+------+-------------------+-----------+\n",
      "|movieId|title                                                          |genres_array                                |rating|rating_date        |rating_year|\n",
      "+-------+---------------------------------------------------------------+--------------------------------------------+------+-------------------+-----------+\n",
      "|2      |Jumanji (1995)                                                 |[Adventure, Children, Fantasy]              |3.5   |2005-04-02 23:53:47|2005       |\n",
      "|29     |City of Lost Children, The (Cité des enfants perdus, La) (1995)|[Adventure, Drama, Fantasy, Mystery, Sci-Fi]|3.5   |2005-04-02 23:31:16|2005       |\n",
      "|32     |Twelve Monkeys (a.k.a. 12 Monkeys) (1995)                      |[Mystery, Sci-Fi, Thriller]                 |3.5   |2005-04-02 23:33:39|2005       |\n",
      "|47     |Seven (a.k.a. Se7en) (1995)                                    |[Mystery, Thriller]                         |3.5   |2005-04-02 23:32:07|2005       |\n",
      "|50     |Usual Suspects, The (1995)                                     |[Crime, Mystery, Thriller]                  |3.5   |2005-04-02 23:29:40|2005       |\n",
      "+-------+---------------------------------------------------------------+--------------------------------------------+------+-------------------+-----------+\n",
      "only showing top 5 rows\n",
      "\n",
      "\n",
      "=== Top 10 films les mieux notés (minimum 10 notes) ===\n"
     ]
    },
    {
     "name": "stderr",
     "output_type": "stream",
     "text": [
      "                                                                                "
     ]
    },
    {
     "name": "stdout",
     "output_type": "stream",
     "text": [
      "+---------------------------------------------+-----------+----------+\n",
      "|title                                        |num_ratings|avg_rating|\n",
      "+---------------------------------------------+-----------+----------+\n",
      "|Zero Motivation (Efes beyahasei enosh) (2014)|11         |4.50      |\n",
      "|Shawshank Redemption, The (1994)             |63366      |4.45      |\n",
      "|Godfather, The (1972)                        |41355      |4.36      |\n",
      "|Usual Suspects, The (1995)                   |47006      |4.33      |\n",
      "|Schindler's List (1993)                      |50054      |4.31      |\n",
      "|Death on the Staircase (Soupçons) (2004)     |21         |4.29      |\n",
      "|Godfather: Part II, The (1974)               |27398      |4.28      |\n",
      "|Seven Samurai (Shichinin no samurai) (1954)  |11611      |4.27      |\n",
      "|Rear Window (1954)                           |17449      |4.27      |\n",
      "|O Auto da Compadecida (Dog's Will, A) (2000) |13         |4.27      |\n",
      "+---------------------------------------------+-----------+----------+\n",
      "only showing top 10 rows\n",
      "\n",
      "\n",
      "=== Résumé statistique ===\n"
     ]
    },
    {
     "name": "stderr",
     "output_type": "stream",
     "text": [
      "                                                                                "
     ]
    },
    {
     "name": "stdout",
     "output_type": "stream",
     "text": [
      "Nombre total de films: 26744\n"
     ]
    },
    {
     "name": "stderr",
     "output_type": "stream",
     "text": [
      "                                                                                "
     ]
    },
    {
     "name": "stdout",
     "output_type": "stream",
     "text": [
      "Note moyenne globale: 3.13\n"
     ]
    },
    {
     "name": "stderr",
     "output_type": "stream",
     "text": [
      "[Stage 83:==============>                                          (3 + 9) / 12]"
     ]
    },
    {
     "name": "stdout",
     "output_type": "stream",
     "text": [
      "Nombre moyen de notes par film: 747.84\n"
     ]
    },
    {
     "name": "stderr",
     "output_type": "stream",
     "text": [
      "                                                                                "
     ]
    }
   ],
   "source": [
    "# Affichage des données\n",
    "print(\"=== Aperçu des données enrichies ===\")\n",
    "enriched_df.select(\n",
    "    \"movieId\",\n",
    "    \"title\",\n",
    "    \"genres_array\",\n",
    "    \"rating\",\n",
    "    \"rating_date\",\n",
    "    \"rating_year\"\n",
    ").show(5, truncate=False)\n",
    "\n",
    "# Affichage des statistiques par film\n",
    "print(\"\\n=== Top 10 films les mieux notés (minimum 10 notes) ===\")\n",
    "movie_stats.filter(col(\"num_ratings\") >= 10) \\\n",
    "    .orderBy(col(\"avg_rating\").desc()) \\\n",
    "    .select(\n",
    "        \"title\",\n",
    "        \"num_ratings\",\n",
    "        col(\"avg_rating\").cast(\"decimal(10,2)\").alias(\"avg_rating\")\n",
    "    ) \\\n",
    "    .show(10, truncate=False)\n",
    "\n",
    "# Résumé statistique\n",
    "print(\"\\n=== Résumé statistique ===\")\n",
    "print(f\"Nombre total de films: {movie_stats.count()}\")\n",
    "print(f\"Note moyenne globale: {movie_stats.select(avg('avg_rating')).first()[0]:.2f}\")\n",
    "print(f\"Nombre moyen de notes par film: {movie_stats.select(avg('num_ratings')).first()[0]:.2f}\")"
   ]
  },
  {
   "cell_type": "code",
   "execution_count": 7,
   "id": "4251ba0a-773a-460d-b242-d6568df66766",
   "metadata": {},
   "outputs": [
    {
     "name": "stdout",
     "output_type": "stream",
     "text": [
      "=== Distribution des Notes ===\n"
     ]
    },
    {
     "name": "stderr",
     "output_type": "stream",
     "text": [
      "                                                                                "
     ]
    },
    {
     "name": "stdout",
     "output_type": "stream",
     "text": [
      "+------+-------+\n",
      "|rating|  count|\n",
      "+------+-------+\n",
      "|   0.5| 239125|\n",
      "|   1.0| 680732|\n",
      "|   1.5| 279252|\n",
      "|   2.0|1430997|\n",
      "|   2.5| 883398|\n",
      "|   3.0|4291193|\n",
      "|   3.5|2200156|\n",
      "|   4.0|5561926|\n",
      "|   4.5|1534824|\n",
      "|   5.0|2898660|\n",
      "+------+-------+\n",
      "\n",
      "\n",
      "=== Statistiques des Notes ===\n"
     ]
    },
    {
     "name": "stderr",
     "output_type": "stream",
     "text": [
      "                                                                                "
     ]
    },
    {
     "name": "stdout",
     "output_type": "stream",
     "text": [
      "+------------------+-----------------+---+---+\n",
      "|           moyenne|       ecart_type|min|max|\n",
      "+------------------+-----------------+---+---+\n",
      "|3.5255285642993797|1.051988919294243|0.5|5.0|\n",
      "+------------------+-----------------+---+---+\n",
      "\n",
      "\n",
      "=== Distribution par Année ===\n"
     ]
    },
    {
     "name": "stderr",
     "output_type": "stream",
     "text": [
      "                                                                                "
     ]
    },
    {
     "name": "stdout",
     "output_type": "stream",
     "text": [
      "+-----------+------------+------------------+\n",
      "|rating_year|nombre_notes|      note_moyenne|\n",
      "+-----------+------------+------------------+\n",
      "|       1995|           4|              3.75|\n",
      "|       1996|     1612609| 3.545408093344388|\n",
      "|       1997|      700982| 3.588521531223341|\n",
      "|       1998|      308070|3.5124841756743597|\n",
      "|       1999|     1198384| 3.616336666711171|\n",
      "+-----------+------------+------------------+\n",
      "only showing top 5 rows\n",
      "\n",
      "\n",
      "=== Distribution par Genre ===\n"
     ]
    },
    {
     "name": "stderr",
     "output_type": "stream",
     "text": [
      "[Stage 102:=======================>                                (5 + 7) / 12]"
     ]
    },
    {
     "name": "stdout",
     "output_type": "stream",
     "text": [
      "+------------------+------------+------------------+\n",
      "|             genre|nombre_notes|      note_moyenne|\n",
      "+------------------+------------+------------------+\n",
      "|             Drama|     8857853|3.6742955093068264|\n",
      "|            Comedy|     7502234|3.4260113054324886|\n",
      "|            Action|     5614208|  3.44386376493354|\n",
      "|          Thriller|     5313506|  3.50711121809216|\n",
      "|         Adventure|     4380351|3.5018926565473865|\n",
      "|           Romance|     3802002| 3.541802581902903|\n",
      "|             Crime|     3298335|3.6745276025631113|\n",
      "|            Sci-Fi|     3150141|3.4367726714455005|\n",
      "|           Fantasy|     2111403|3.5059453358738244|\n",
      "|          Children|     1669249|3.4081137685270444|\n",
      "|           Mystery|     1557282| 3.663508921312903|\n",
      "|            Horror|     1482737|3.2772238097518307|\n",
      "|         Animation|     1140476|3.6174939235897994|\n",
      "|               War|     1048618|3.8095307347384844|\n",
      "|           Musical|      870915| 3.558090628821412|\n",
      "|              IMAX|      492366| 3.655945983272606|\n",
      "|           Western|      423714|3.5704980246109406|\n",
      "|       Documentary|      244619|3.7397176834178865|\n",
      "|         Film-Noir|      216689|  3.96538126070082|\n",
      "|(no genres listed)|         361|3.0069252077562325|\n",
      "+------------------+------------+------------------+\n",
      "\n"
     ]
    },
    {
     "name": "stderr",
     "output_type": "stream",
     "text": [
      "                                                                                "
     ]
    }
   ],
   "source": [
    "# Imports nécessaires\n",
    "from pyspark.sql.functions import col, count, avg, stddev, min, max, explode\n",
    "\n",
    "# Vérification de la distribution des notes\n",
    "print(\"=== Distribution des Notes ===\")\n",
    "ratings_distribution = enriched_df.groupBy(\"rating\") \\\n",
    "    .count() \\\n",
    "    .orderBy(\"rating\")\n",
    "ratings_distribution.show()\n",
    "\n",
    "# Statistiques descriptives des notes\n",
    "print(\"\\n=== Statistiques des Notes ===\")\n",
    "rating_stats = enriched_df.select(\n",
    "    avg(\"rating\").alias(\"moyenne\"),\n",
    "    stddev(\"rating\").alias(\"ecart_type\"),\n",
    "    min(\"rating\").alias(\"min\"),\n",
    "    max(\"rating\").alias(\"max\")\n",
    ")\n",
    "rating_stats.show()\n",
    "\n",
    "# Distribution temporelle\n",
    "print(\"\\n=== Distribution par Année ===\")\n",
    "yearly_stats = enriched_df.groupBy(\"rating_year\") \\\n",
    "    .agg(\n",
    "        count(\"rating\").alias(\"nombre_notes\"),\n",
    "        avg(\"rating\").alias(\"note_moyenne\")\n",
    "    ) \\\n",
    "    .orderBy(\"rating_year\")\n",
    "yearly_stats.show(5)\n",
    "\n",
    "# Analyse des genres\n",
    "print(\"\\n=== Distribution par Genre ===\")\n",
    "genre_stats = enriched_df.select(\"genres_array\", \"rating\") \\\n",
    "    .withColumn(\"genre\", explode(col(\"genres_array\"))) \\\n",
    "    .groupBy(\"genre\") \\\n",
    "    .agg(\n",
    "        count(\"rating\").alias(\"nombre_notes\"),\n",
    "        avg(\"rating\").alias(\"note_moyenne\")\n",
    "    ) \\\n",
    "    .orderBy(col(\"nombre_notes\").desc())\n",
    "genre_stats.show()"
   ]
  },
  {
   "cell_type": "code",
   "execution_count": 8,
   "id": "1dd240e0-a51a-4db3-9b68-a9d6f86ba517",
   "metadata": {},
   "outputs": [
    {
     "name": "stderr",
     "output_type": "stream",
     "text": [
      "                                                                                "
     ]
    },
    {
     "name": "stdout",
     "output_type": "stream",
     "text": [
      "=== Vérification de la sauvegarde ===\n",
      "Nombre de lignes sauvegardées: 20000263\n",
      "\n",
      "=== Aperçu des données sauvegardées ===\n"
     ]
    },
    {
     "name": "stderr",
     "output_type": "stream",
     "text": [
      "[Stage 111:>                                                        (0 + 1) / 1]"
     ]
    },
    {
     "name": "stdout",
     "output_type": "stream",
     "text": [
      "+-------+--------------------+--------------------+------+------+-------------------+--------------------+-------------------+-----------+\n",
      "|movieId|               title|              genres|userId|rating|          timestamp|        genres_array|        rating_date|rating_year|\n",
      "+-------+--------------------+--------------------+------+------+-------------------+--------------------+-------------------+-----------+\n",
      "|      2|      Jumanji (1995)|Adventure|Childre...|     1|   3.5|2005-04-02 23:53:47|[Adventure, Child...|2005-04-02 23:53:47|       2005|\n",
      "|     29|City of Lost Chil...|Adventure|Drama|F...|     1|   3.5|2005-04-02 23:31:16|[Adventure, Drama...|2005-04-02 23:31:16|       2005|\n",
      "|     32|Twelve Monkeys (a...|Mystery|Sci-Fi|Th...|     1|   3.5|2005-04-02 23:33:39|[Mystery, Sci-Fi,...|2005-04-02 23:33:39|       2005|\n",
      "|     47|Seven (a.k.a. Se7...|    Mystery|Thriller|     1|   3.5|2005-04-02 23:32:07| [Mystery, Thriller]|2005-04-02 23:32:07|       2005|\n",
      "|     50|Usual Suspects, T...|Crime|Mystery|Thr...|     1|   3.5|2005-04-02 23:29:40|[Crime, Mystery, ...|2005-04-02 23:29:40|       2005|\n",
      "+-------+--------------------+--------------------+------+------+-------------------+--------------------+-------------------+-----------+\n",
      "only showing top 5 rows\n",
      "\n"
     ]
    },
    {
     "name": "stderr",
     "output_type": "stream",
     "text": [
      "                                                                                "
     ]
    }
   ],
   "source": [
    "enriched_df.write \\\n",
    "    .mode(\"overwrite\") \\\n",
    "    .parquet(\"hdfs://namenode:9000/datasets/clean_movies_ratings\")\n",
    "\n",
    "# Vérification\n",
    "print(\"=== Vérification de la sauvegarde ===\")\n",
    "saved_df = spark.read.parquet(\"hdfs://namenode:9000/datasets/clean_movies_ratings\")\n",
    "print(f\"Nombre de lignes sauvegardées: {saved_df.count()}\")\n",
    "print(\"\\n=== Aperçu des données sauvegardées ===\")\n",
    "saved_df.show(5)"
   ]
  },
  {
   "cell_type": "code",
   "execution_count": null,
   "id": "cbfc9f29-3f66-421c-9de5-eb4442471733",
   "metadata": {},
   "outputs": [],
   "source": []
  }
 ],
 "metadata": {
  "kernelspec": {
   "display_name": "Python 3 (ipykernel)",
   "language": "python",
   "name": "python3"
  },
  "language_info": {
   "codemirror_mode": {
    "name": "ipython",
    "version": 3
   },
   "file_extension": ".py",
   "mimetype": "text/x-python",
   "name": "python",
   "nbconvert_exporter": "python",
   "pygments_lexer": "ipython3",
   "version": "3.10.12"
  }
 },
 "nbformat": 4,
 "nbformat_minor": 5
}
