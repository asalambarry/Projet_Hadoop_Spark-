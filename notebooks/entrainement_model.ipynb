{
 "cells": [
  {
   "cell_type": "code",
   "execution_count": 1,
   "id": "af82dbd7-86bc-4434-b885-8b40f290aa87",
   "metadata": {},
   "outputs": [
    {
     "name": "stderr",
     "output_type": "stream",
     "text": [
      "Setting default log level to \"WARN\".\n",
      "To adjust logging level use sc.setLogLevel(newLevel). For SparkR, use setLogLevel(newLevel).\n",
      "25/05/05 02:46:01 WARN NativeCodeLoader: Unable to load native-hadoop library for your platform... using builtin-java classes where applicable\n",
      "25/05/05 02:46:04 WARN Utils: Service 'SparkUI' could not bind on port 4040. Attempting port 4041.\n",
      "                                                                                "
     ]
    },
    {
     "name": "stdout",
     "output_type": "stream",
     "text": [
      "Nombre total de ratings: 20000263\n"
     ]
    },
    {
     "name": "stderr",
     "output_type": "stream",
     "text": [
      "25/05/05 02:48:01 WARN InstanceBuilder: Failed to load implementation from:dev.ludovic.netlib.blas.JNIBLAS\n",
      "25/05/05 02:48:05 WARN InstanceBuilder: Failed to load implementation from:dev.ludovic.netlib.lapack.JNILAPACK\n",
      "                                                                                "
     ]
    },
    {
     "name": "stdout",
     "output_type": "stream",
     "text": [
      "\n",
      "Performance du modèle (RMSE): 0.81\n"
     ]
    },
    {
     "name": "stderr",
     "output_type": "stream",
     "text": [
      "                                                                                "
     ]
    },
    {
     "name": "stdout",
     "output_type": "stream",
     "text": [
      "\n",
      "Modèle sauvegardé dans: hdfs://namenode:9000/models/als_recommender\n"
     ]
    }
   ],
   "source": [
    "# Imports nécessaires\n",
    "from pyspark.sql import SparkSession\n",
    "from pyspark.ml.recommendation import ALS\n",
    "from pyspark.ml.evaluation import RegressionEvaluator\n",
    "\n",
    "# Configuration Spark optimisée\n",
    "spark = SparkSession.builder \\\n",
    "    .appName(\"MovieRecommendation\") \\\n",
    "    .config(\"spark.driver.memory\", \"2g\") \\\n",
    "    .config(\"spark.executor.memory\", \"2g\") \\\n",
    "    .config(\"spark.sql.shuffle.partitions\", \"10\") \\\n",
    "    .getOrCreate()\n",
    "\n",
    "try:\n",
    "    # Chargement des données\n",
    "    ratings_df = spark.read.parquet(\"hdfs://namenode:9000/datasets/clean_movies_ratings\")\n",
    "    print(f\"Nombre total de ratings: {ratings_df.count()}\")\n",
    "    \n",
    "    # Préparation des données\n",
    "    (training, test) = ratings_df.randomSplit([0.8, 0.2])\n",
    "    \n",
    "    # Configuration et entraînement du modèle\n",
    "    als = ALS(\n",
    "        maxIter=5,\n",
    "        regParam=0.01,\n",
    "        rank=10,\n",
    "        userCol=\"userId\",\n",
    "        itemCol=\"movieId\",\n",
    "        ratingCol=\"rating\",\n",
    "        coldStartStrategy=\"drop\"\n",
    "    )\n",
    "    \n",
    "    model = als.fit(training)\n",
    "    \n",
    "    # Évaluation\n",
    "    predictions = model.transform(test)\n",
    "    evaluator = RegressionEvaluator(\n",
    "        metricName=\"rmse\",\n",
    "        labelCol=\"rating\",\n",
    "        predictionCol=\"prediction\"\n",
    "    )\n",
    "    \n",
    "    rmse = evaluator.evaluate(predictions)\n",
    "    print(f\"\\nPerformance du modèle (RMSE): {rmse:.2f}\")\n",
    "\n",
    "    # Sauvegarde du modèle avec overwrite\n",
    "    model_path = \"hdfs://namenode:9000/models/als_recommender\"\n",
    "    model.write().overwrite().save(model_path)\n",
    "    print(f\"\\nModèle sauvegardé dans: {model_path}\")\n",
    "\n",
    "except Exception as e:\n",
    "    print(f\"Erreur: {str(e)}\")\n",
    "\n",
    "finally:\n",
    "    spark.stop()"
   ]
  },
  {
   "cell_type": "code",
   "execution_count": null,
   "id": "ba273319-b80e-477f-a481-360a23922302",
   "metadata": {},
   "outputs": [],
   "source": []
  }
 ],
 "metadata": {
  "kernelspec": {
   "display_name": "Python 3 (ipykernel)",
   "language": "python",
   "name": "python3"
  },
  "language_info": {
   "codemirror_mode": {
    "name": "ipython",
    "version": 3
   },
   "file_extension": ".py",
   "mimetype": "text/x-python",
   "name": "python",
   "nbconvert_exporter": "python",
   "pygments_lexer": "ipython3",
   "version": "3.10.12"
  }
 },
 "nbformat": 4,
 "nbformat_minor": 5
}
