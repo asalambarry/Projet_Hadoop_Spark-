from kafka import KafkaConsumer
from pymongo import MongoClient
import json

# Configuration MongoDB
client = MongoClient('mongodb://localhost:27017/')
db = client['movieratings']
collection = db['ratings']

# Configuration Kafka Consumer
consumer = KafkaConsumer(
    'movieratings',
    bootstrap_servers=['bigdata-container:9092'],
    auto_offset_reset='earliest',
    value_deserializer=lambda x: json.loads(x.decode('utf-8'))
)

# Test de lecture et stockage
print("Démarrage du consumer test...")
message_count = 0

try:
    for message in consumer:
        data = message.value
        # Stockage dans MongoDB
        collection.insert_one(data)
        print(f"Message stocké: {data}")
        message_count += 1
        
        # Afficher le nombre total de documents
        total_docs = collection.count_documents({})
        print(f"Total documents dans MongoDB: {total_docs}")
        
        if message_count >= 10:  # Arrêt après 10 messages
            break
            
finally:
    consumer.close()
    client.close()